{
  "nbformat": 4,
  "nbformat_minor": 0,
  "metadata": {
    "colab": {
      "provenance": []
    },
    "kernelspec": {
      "name": "python3",
      "display_name": "Python 3"
    },
    "language_info": {
      "name": "python"
    }
  },
  "cells": [
    {
      "cell_type": "markdown",
      "source": [
        "# Labeling Function"
      ],
      "metadata": {
        "id": "F6JkiTJe7Oe-"
      }
    },
    {
      "cell_type": "code",
      "execution_count": null,
      "metadata": {
        "id": "gUoVMcA57LB9"
      },
      "outputs": [],
      "source": [
        "def labeling(df):\n",
        "    df_new_col = pd.DataFrame()\n",
        "    for date in df['Date'].unique():\n",
        "        # Filter so that it does not calculate price change from 1 day to the next\n",
        "        single_day = df[df['Date'] == date].copy()\n",
        "        single_day.dropna(subset=['Close_2m'], inplace=True)\n",
        "        # Calculate the 6 minute change in price\n",
        "        single_day['SixMinChange'] = single_day['Close_2m'].shift(-3) - single_day['Close_2m']\n",
        "        # concatenate data into a new data frame\n",
        "        df_new_col = pd.concat([df_new_col, single_day], ignore_index=True)\n",
        "\n",
        "    df = df_new_col.copy()\n",
        "    # Labeling conditions: top 33% are considered bull, bottome 33 percent are considered bear\n",
        "    percentiles = [.67, .33]\n",
        "\n",
        "    # This calculates the price to seperate labels on\n",
        "    bull_condition = df['SixMinChange'].quantile(percentiles[0])\n",
        "    bear_condition = df['SixMinChange'].quantile(percentiles[1])\n",
        "\n",
        "    # Create 'Label' column based on conditions\n",
        "    df['SixMinLabel'] = 'Neutral'\n",
        "    df.loc[df['SixMinChange'] > bull_condition, 'SixMinLabel'] = 'Bullish'\n",
        "    df.loc[df['SixMinChange'] < bear_condition, 'SixMinLabel'] = 'Bearish'\n",
        "\n",
        "    # Drop NaNs after calculations\n",
        "    df.dropna(subset=['SixMinChange'], inplace=True)\n",
        "    df.reset_index(drop=True, inplace=True)\n",
        "    return df"
      ]
    },
    {
      "cell_type": "markdown",
      "source": [
        "# Function 2: Momentum Indicator Creation"
      ],
      "metadata": {
        "id": "snSKZ1FM900i"
      }
    },
    {
      "cell_type": "code",
      "source": [
        "def momentum_columns(df):\n",
        "  df_new_cols = pd.DataFrame()\n",
        "  for date in df['Date'].unique():\n",
        "    # Find the Moving Averages and Hourly Change\n",
        "    single_day = df[df['Date'] == date].copy()\n",
        "    single_day['TenMinMovingAvg'] = single_day['Close_2m'].rolling(window=5).mean()\n",
        "    single_day['TwentyMinMovingAvg'] = single_day['Close_2m'].rolling(window=10).mean()\n",
        "    single_day['ThirtyMinMovingAvg'] = single_day['Close_2m'].rolling(window=15).mean()\n",
        "    single_day['HourChange'] = single_day['Close_2m'].shift(30) - single_day['Close_2m']\n",
        "    df_new_cols = pd.concat([df_new_cols, single_day], ignore_index=True)\n",
        "  df = df_new_cols\n",
        "  ## Create Labels for Dummy Variables\n",
        "  # 10 Minute MA\n",
        "  df['TenMinMALabel'] = 'Neutral'\n",
        "  df.loc[100*df['Close_2m'] > 100*df['TenMinMovingAvg'], 'TenMinMALabel'] = 'Above'\n",
        "  df.loc[100*df['Close_2m'] < 100*df['TenMinMovingAvg'], 'TenMinMALabel'] = 'Below'\n",
        "\n",
        "  # 20 Minute MA\n",
        "  df['TwentyMinMALabel'] = 'Neutral'\n",
        "  df.loc[100*df['Close_2m'] > 100*df['TwentyMinMovingAvg'], 'TwentyMinMALabel'] = 'Above'\n",
        "  df.loc[100*df['Close_2m'] < 100*df['TwentyMinMovingAvg'], 'TwentyMinMALabel'] = 'Below'\n",
        "\n",
        "  # Thirty Minute MA\n",
        "  df['ThirtyMinMALabel'] = 'Neutral'\n",
        "  df.loc[100*df['Close_2m'] > 100*df['ThirtyMinMovingAvg'], 'ThirtyMinMALabel'] = 'Above'\n",
        "  df.loc[100*df['Close_2m'] < 100*df['ThirtyMinMovingAvg'], 'ThirtyMinMALabel'] = 'Below'\n",
        "\n",
        "  # Ten Cross Twently Label\n",
        "  df['TenCrossTwenty'] = 'Neutral'\n",
        "  df.loc[100*df['TenMinMovingAvg'] > 100*df['TwentyMinMovingAvg'], 'TenCrossTwenty'] = 'Above'\n",
        "  df.loc[100*df['TenMinMovingAvg'] < 100*df['TwentyMinMovingAvg'], 'TenCrossTwenty'] = 'Below'\n",
        "\n",
        "  # Ten Cross Twently Label\n",
        "  df['TenCrossThirty'] = 'Neutral'\n",
        "  df.loc[100*df['TenMinMovingAvg'] > 100*df['ThirtyMinMovingAvg'], 'TenCrossThirty'] = 'Above'\n",
        "  df.loc[100*df['TenMinMovingAvg'] < 100*df['ThirtyMinMovingAvg'], 'TenCrossThirty'] = 'Below'\n",
        "\n",
        "  # Hourly Change\n",
        "  df['HourChangeLabel'] = 'Neutral'\n",
        "  df.loc[10*df['HourChange'] > 0, 'HourChangeLabel'] = 'Above'\n",
        "  df.loc[10*df['HourChange'] < 0, 'HourChangeLabel'] = 'Below'\n",
        "\n",
        "  # Drop nulls\n",
        "  df.dropna(subset=['HourChange'], inplace = True)\n",
        "  df = df.reset_index()\n",
        "  return df"
      ],
      "metadata": {
        "id": "UEFRRns79cSs"
      },
      "execution_count": null,
      "outputs": []
    },
    {
      "cell_type": "markdown",
      "source": [
        "# Data Cleaning"
      ],
      "metadata": {
        "id": "gBTqMpH1-VF8"
      }
    },
    {
      "cell_type": "code",
      "source": [
        "def intraday_cleaning(data):\n",
        "    # Change to datetime data type, normalize to utc time zone\n",
        "    data['Datetime'] = pd.to_datetime(data['Datetime'], utc=True)\n",
        "    # Create a Date column\n",
        "    data['Date'] = data['Datetime'].dt.date\n",
        "    # Create a time column\n",
        "    data['Time'] = data['Datetime'].dt.time\n",
        "    # Adj Close is not used and Datetime become repetitive\n",
        "    data.drop(['Datetime', 'Adj Close'], inplace=True, axis=1)\n",
        "    return data"
      ],
      "metadata": {
        "id": "CdHaTHv9-9xT"
      },
      "execution_count": null,
      "outputs": []
    },
    {
      "cell_type": "markdown",
      "source": [
        "# Candlestick Creation"
      ],
      "metadata": {
        "id": "vFxjIXaw_SjJ"
      }
    },
    {
      "cell_type": "code",
      "source": [
        "def candle_sticks(data, image_folder_base, ticker, candles, step):\n",
        "    # Assuming 'Date' and 'Label' columns exist in the dataframe\n",
        "    unique_dates = data['Date'].unique()\n",
        "\n",
        "    for date in unique_dates:\n",
        "        day_df = data.loc[data['Date'] == date]\n",
        "\n",
        "        # Select 10-period sequences\n",
        "        start_candle = 0\n",
        "        end_candle = candles\n",
        "\n",
        "        while end_candle <= len(day_df):\n",
        "            # Filter the dataframe for the sequence\n",
        "            sequence = day_df.iloc[start_candle:end_candle]\n",
        "\n",
        "            # Create candlestick chart\n",
        "            fig = go.Figure(data=[go.Candlestick(x=sequence['Time'],\n",
        "                                                 open=sequence['Open_2m'],\n",
        "                                                 high=sequence['High_2m'],\n",
        "                                                 low=sequence['Low_2m'],\n",
        "                                                 close=sequence['Close_2m'])])\n",
        "\n",
        "            # Get label for the last candlestick in the sequence\n",
        "            label = sequence['SixMinLabel'].iloc[-1]\n",
        "            output_folder = f'{image_folder_base}/{label}'\n",
        "\n",
        "            # Write to a JPEG file\n",
        "            image_file = f\"{output_folder}/candles_{date}_{ticker}_{start_candle}_{end_candle}_label_{label}.jpeg\"\n",
        "            fig.write_image(image_file)\n",
        "\n",
        "            # Move to the next sequence\n",
        "            start_candle += step\n",
        "            end_candle += step"
      ],
      "metadata": {
        "id": "dKwAY47P_W1X"
      },
      "execution_count": null,
      "outputs": []
    }
  ]
}